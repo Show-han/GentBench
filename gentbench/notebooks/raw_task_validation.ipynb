{
 "cells": [
  {
   "attachments": {},
   "cell_type": "markdown",
   "metadata": {
    "collapsed": false
   },
   "source": [
    "# Demo: Math Benchmark Selection\n",
    "Generally, a good ALM eval task is something hard for vanilla LLMs, where we hope tools come in to assist.\n",
    "\n",
    "Here we demo how to retrive some math eval from MATH dataset."
   ]
  },
  {
   "cell_type": "code",
   "execution_count": 1,
   "metadata": {
    "ExecuteTime": {
     "end_time": "2023-06-29T07:06:04.038012037Z",
     "start_time": "2023-06-29T07:06:02.715352212Z"
    }
   },
   "outputs": [],
   "source": [
    "import os\n",
    "import json\n",
    "import pandas as pd\n",
    "from gentopia import AgentAssembler\n",
    "from gentbench.grader import GateGrader, BatchGateGrader\n",
    "from gentopia.llm import OpenAIGPTClient\n",
    "from tqdm import tqdm"
   ]
  },
  {
   "cell_type": "code",
   "execution_count": 2,
   "metadata": {
    "ExecuteTime": {
     "end_time": "2023-06-29T07:06:04.040710857Z",
     "start_time": "2023-06-29T07:06:04.039689751Z"
    }
   },
   "outputs": [],
   "source": [
    "# Recursive function to load json files from a path and its subdirectories\n",
    "def load_from_path_recursive(path):\n",
    "    data = []\n",
    "    for root, dirs, files in os.walk(path):\n",
    "        for file in files:\n",
    "            if file.endswith(\".json\"):\n",
    "                with open(os.path.join(root, file), 'r') as f:\n",
    "                    data.append(json.load(f))\n",
    "    return data\n"
   ]
  },
  {
   "cell_type": "code",
   "execution_count": 3,
   "metadata": {
    "ExecuteTime": {
     "end_time": "2023-06-29T07:06:04.196744495Z",
     "start_time": "2023-06-29T07:06:04.041193717Z"
    }
   },
   "outputs": [],
   "source": [
    "# Read MATH dataset\n",
    "data = load_from_path_recursive(\"../benchmark/raw/MATH/\")\n",
    "# Initial filter by level of difficulty \n",
    "hard_data = []\n",
    "for data in data:\n",
    "    if data[\"level\"] in [\"Level 5\"]:\n",
    "        hard_data.append(data)"
   ]
  },
  {
   "cell_type": "code",
   "execution_count": 4,
   "metadata": {
    "ExecuteTime": {
     "end_time": "2023-06-29T07:06:04.199697353Z",
     "start_time": "2023-06-29T07:06:04.197984405Z"
    },
    "collapsed": false
   },
   "outputs": [
    {
     "data": {
      "text/plain": [
       "3628"
      ]
     },
     "execution_count": 4,
     "metadata": {},
     "output_type": "execute_result"
    }
   ],
   "source": [
    "len(hard_data)"
   ]
  },
  {
   "cell_type": "code",
   "execution_count": 5,
   "metadata": {
    "ExecuteTime": {
     "end_time": "2023-06-29T07:06:04.242159821Z",
     "start_time": "2023-06-29T07:06:04.242007362Z"
    },
    "collapsed": false
   },
   "outputs": [],
   "source": [
    "# Use vanilla gpt-3.5-turbo as threshold\n",
    "dummy_agent = AgentAssembler(file=\"../eval/config/chatgpt.yaml\").get_agent()\n",
    "\n",
    "eval_llm = OpenAIGPTClient(model_name=\"gpt-4\")\n",
    "grader = GateGrader(llm=eval_llm)\n",
    "batch_grader = BatchGateGrader(llm=eval_llm)"
   ]
  },
  {
   "attachments": {},
   "cell_type": "markdown",
   "metadata": {
    "collapsed": false
   },
   "source": [
    "## Single Eval"
   ]
  },
  {
   "cell_type": "code",
   "execution_count": 6,
   "metadata": {
    "ExecuteTime": {
     "end_time": "2023-06-29T07:06:04.350524380Z",
     "start_time": "2023-06-29T07:06:04.303288595Z"
    },
    "collapsed": false
   },
   "outputs": [
    {
     "data": {
      "text/plain": [
       "{'problem': 'Find the largest negative integer $x$ which satisfies the congruence $34x+6\\\\equiv 2\\\\pmod {20}$.',\n",
       " 'level': 'Level 5',\n",
       " 'type': 'Number Theory',\n",
       " 'solution': 'We can simplify the congruence as follows (all of the following congruences are equivalent):\\n\\\\begin{align*}\\n34x+6&\\\\equiv 2\\\\pmod {20}\\\\\\\\\\n14x+6&\\\\equiv 2\\\\pmod {20}\\\\\\\\\\n14x&\\\\equiv 16\\\\pmod {20}\\\\\\\\\\n7x&\\\\equiv 8\\\\pmod {10}\\\\\\\\\\n21x&\\\\equiv 8\\\\cdot 3\\\\pmod {10}\\\\\\\\\\nx&\\\\equiv 24\\\\pmod{10}\\\\\\\\\\nx&\\\\equiv 4\\\\pmod{10}\\\\\\\\\\nx&\\\\equiv \\\\boxed{-6}\\\\pmod{10}.\\n\\\\end{align*}'}"
      ]
     },
     "execution_count": 6,
     "metadata": {},
     "output_type": "execute_result"
    }
   ],
   "source": [
    "hard_data[0]"
   ]
  },
  {
   "cell_type": "code",
   "execution_count": 7,
   "metadata": {
    "ExecuteTime": {
     "end_time": "2023-06-29T07:06:11.732089292Z",
     "start_time": "2023-06-29T07:06:05.002868714Z"
    },
    "collapsed": false
   },
   "outputs": [
    {
     "data": {
      "text/plain": [
       "'We can simplify the congruence as follows: \\\\begin{align*}\\n34x+6&\\\\equiv 2\\\\pmod{20} \\\\\\\\\\n34x&\\\\equiv -4\\\\pmod{20} \\\\\\\\\\n17x&\\\\equiv -2\\\\pmod{10} \\\\\\\\\\n17x&\\\\equiv 8\\\\pmod{10} \\\\\\\\\\n7x&\\\\equiv 8\\\\pmod{10}.\\n\\\\end{align*}We can then find the inverse of $7$ modulo $10$ by testing values: \\\\begin{align*}\\n7\\\\cdot 1&\\\\equiv 7\\\\pmod{10} \\\\\\\\\\n7\\\\cdot 2&\\\\equiv 4\\\\pmod{10} \\\\\\\\\\n7\\\\cdot 3&\\\\equiv 1\\\\pmod{10}.\\n\\\\end{align*}Therefore, the inverse of $7$ modulo $10$ is $3$. Multiplying both sides of $7x\\\\equiv 8\\\\pmod{10}$ by $3$, we get \\\\[21x\\\\equiv 24\\\\pmod{10}.\\\\]Since $21x\\\\equiv 1x\\\\pmod{10}$, we have $x\\\\equiv 24\\\\pmod{10}$. The largest negative integer $x$ satisfying this congruence is $\\\\boxed{-6}$.'"
      ]
     },
     "execution_count": 7,
     "metadata": {},
     "output_type": "execute_result"
    }
   ],
   "source": [
    "pred = dummy_agent.run(hard_data[0][\"problem\"]).output\n",
    "pred"
   ]
  },
  {
   "cell_type": "code",
   "execution_count": 8,
   "metadata": {
    "ExecuteTime": {
     "end_time": "2023-06-29T07:06:27.378658650Z",
     "start_time": "2023-06-29T07:06:26.410502076Z"
    },
    "collapsed": false
   },
   "outputs": [
    {
     "data": {
      "text/plain": [
       "AgentOutput(output='passed', cost=0.01704, token_usage=567)"
      ]
     },
     "execution_count": 8,
     "metadata": {},
     "output_type": "execute_result"
    }
   ],
   "source": [
    "grader.run(hard_data[0][\"problem\"], hard_data[0][\"solution\"], pred)"
   ]
  },
  {
   "attachments": {},
   "cell_type": "markdown",
   "metadata": {
    "collapsed": false
   },
   "source": [
    "## Batch Eval"
   ]
  },
  {
   "cell_type": "code",
   "execution_count": 9,
   "metadata": {
    "ExecuteTime": {
     "end_time": "2023-06-29T07:06:54.558468852Z",
     "start_time": "2023-06-29T07:06:54.515324934Z"
    }
   },
   "outputs": [],
   "source": [
    "problems = [\"Answer in short: \" + data[\"problem\"] for data in hard_data]\n",
    "solutions = [data[\"solution\"] for data in hard_data]"
   ]
  },
  {
   "cell_type": "code",
   "execution_count": 10,
   "metadata": {
    "ExecuteTime": {
     "end_time": "2023-06-29T08:39:17.254768599Z",
     "start_time": "2023-06-29T07:06:59.425198906Z"
    },
    "collapsed": false
   },
   "outputs": [
    {
     "name": "stderr",
     "output_type": "stream",
     "text": [
      "100%|██████████| 2/2 [01:13<00:00, 36.61s/it]"
     ]
    },
    {
     "name": "stdout",
     "output_type": "stream",
     "text": [
      "Exception: The server is overloaded or not ready yet.\n",
      "1 validation error for BaseCompletion\n",
      "content\n",
      "  str type expected (type=type_error.str)\n"
     ]
    },
    {
     "name": "stderr",
     "output_type": "stream",
     "text": [
      "\n"
     ]
    }
   ],
   "source": [
    "BS = 3\n",
    "SAMPLE = 300\n",
    "\n",
    "probs, sols, preds, grades = [], [], [], []\n",
    "cost, tokens = 0, 0\n",
    "for i in tqdm(range(0, SAMPLE, BS)):\n",
    "    batch_problems = problems[i:i+BS]\n",
    "    batch_solutions = solutions[i:i+BS]\n",
    "    try:\n",
    "        batch_preds = [dummy_agent.run(prob).output for prob in batch_problems]\n",
    "        res = batch_grader.run(batch_problems, batch_solutions, batch_preds)\n",
    "        probs += batch_problems\n",
    "        sols += batch_solutions\n",
    "        preds += batch_preds\n",
    "        grades += res.output.split(\",\")\n",
    "        cost += res.cost\n",
    "        tokens += res.token_usage\n",
    "    except Exception as e:\n",
    "        continue\n"
   ]
  },
  {
   "cell_type": "code",
   "execution_count": 13,
   "metadata": {
    "ExecuteTime": {
     "end_time": "2023-06-29T14:47:35.758162005Z",
     "start_time": "2023-06-29T14:47:35.714216685Z"
    },
    "collapsed": false
   },
   "outputs": [
    {
     "data": {
      "text/plain": [
       "['failed', 'failed', 'failed', 'failed', 'failed']"
      ]
     },
     "execution_count": 13,
     "metadata": {},
     "output_type": "execute_result"
    }
   ],
   "source": [
    "grades"
   ]
  },
  {
   "cell_type": "code",
   "execution_count": 26,
   "metadata": {
    "ExecuteTime": {
     "end_time": "2023-06-29T14:47:55.969922685Z",
     "start_time": "2023-06-29T14:47:55.967140841Z"
    },
    "collapsed": false
   },
   "outputs": [
    {
     "name": "stdout",
     "output_type": "stream",
     "text": [
      "new tasks to be saved into benchmark: 253\n"
     ]
    }
   ],
   "source": [
    "solutions[0]"
   ]
  },
  {
   "cell_type": "code",
   "execution_count": 27,
   "metadata": {
    "ExecuteTime": {
     "end_time": "2023-06-29T14:48:06.882057254Z",
     "start_time": "2023-06-29T14:48:06.839255230Z"
    },
    "collapsed": false
   },
   "outputs": [],
   "source": [
    "preds[0]"
   ]
  },
  {
   "cell_type": "code",
   "execution_count": 28,
   "metadata": {
    "ExecuteTime": {
     "end_time": "2023-06-29T14:48:35.014117293Z",
     "start_time": "2023-06-29T14:48:34.971095505Z"
    },
    "collapsed": false
   },
   "outputs": [
    {
     "name": "stdout",
     "output_type": "stream",
     "text": [
      "Eval spent you $6.4428600000000005 and 213446 tokens.\n"
     ]
    }
   ],
   "source": [
    "grades"
   ]
  },
  {
   "cell_type": "code",
   "execution_count": 29,
   "metadata": {
    "ExecuteTime": {
     "end_time": "2023-06-29T14:48:41.729068958Z",
     "start_time": "2023-06-29T14:48:41.727003926Z"
    },
    "collapsed": false
   },
   "outputs": [
    {
     "data": {
      "text/plain": [
       "{'problem': 'Think step by step and answer in short: For $1 \\\\le n \\\\le 100$, how many integers are there such that $\\\\frac{n}{n+1}$ is a repeating decimal?',\n",
       " 'solution': 'Note that $n+1$ and $n$ will never share any common factors except for $1$, because they are consecutive integers. Therefore, $n/(n+1)$ is already simplified, for all positive integers $n$.\\n\\nSince $1 \\\\le n \\\\le 100$, it follows that $2 \\\\le n+1 \\\\le 101$. Recall that a simplified fraction has a repeating decimal representation if and only if its denominator is divisible by a prime other than 2 and 5. The numbers between 2 and 101 which are divisible only by 2 and 5 comprise the set $\\\\{2, 4, 5, 8, \\\\allowbreak 10, 16, 20, 25, \\\\allowbreak 32, 40, 50, 64, \\\\allowbreak 80, 100\\\\}$. Therefore, there are $14$ terminating decimals and $100 - 14 = \\\\boxed{86}$ repeating decimals.',\n",
       " 'pred': 'To determine how many integers satisfy the given condition, we need to find the number of integers $n$ such that $\\\\frac{n}{n+1}$ is a repeating decimal.\\n\\nStep 1: Consider the fraction $\\\\frac{n}{n+1}$. We want to express it as a repeating decimal.\\n\\nStep 2: To do this, we divide $n$ by $n+1$ using long division. The quotient will be the whole number part of the decimal representation, and the remainder will be the repeating part.\\n\\nStep 3: Since $1 \\\\le n \\\\le 100$, the possible values of $n$ are $1, 2, 3, \\\\ldots, 100$. We can go through each value of $n$ and perform the long division to determine if $\\\\frac{n}{n+1}$ is a repeating decimal.\\n\\nStep 4: If the remainder is zero, then $\\\\frac{n}{n+1}$ is not a repeating decimal. If the remainder is nonzero, then $\\\\frac{n}{n+1}$ is a repeating decimal.\\n\\nStep 5: Count the number of values of $n$ for which the remainder is nonzero. This will give us the number of integers that satisfy the given condition.\\n\\nNote: We can also observe that $\\\\frac{n}{n+1}$ is a repeating decimal if and only if $n+1$ is not a power of $2$ or $5$. This is because the decimal representation of $\\\\frac{n}{n+1}$ repeats if and only if the denominator $n+1$ has a prime factor other than $2$ or $5$.'}"
      ]
     },
     "execution_count": 29,
     "metadata": {},
     "output_type": "execute_result"
    }
   ],
   "source": [
    "df = pd.DataFrame({\"problem\": problems, \"solution\": solutions})"
   ]
  }
 ],
 "metadata": {
  "kernelspec": {
   "display_name": "Python 3",
   "language": "python",
   "name": "python3"
  },
  "language_info": {
   "codemirror_mode": {
    "name": "ipython",
    "version": 3
   },
   "file_extension": ".py",
   "mimetype": "text/x-python",
   "name": "python",
   "nbconvert_exporter": "python",
   "pygments_lexer": "ipython3",
   "version": "3.10.11"
  }
 },
 "nbformat": 4,
 "nbformat_minor": 0
}
