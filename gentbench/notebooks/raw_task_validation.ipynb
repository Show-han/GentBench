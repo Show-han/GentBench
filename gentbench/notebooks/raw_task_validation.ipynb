{
 "cells": [
  {
   "attachments": {},
   "cell_type": "markdown",
   "metadata": {
    "collapsed": false
   },
   "source": [
    "# Demo: Math Benchmark Selection\n",
    "Generally, a good ALM eval task is something hard for vanilla LLMs, where we hope tools come in to assist.\n",
    "\n",
    "Here we demo how to retrive some math eval from MATH dataset."
   ]
  },
  {
   "cell_type": "code",
   "execution_count": 1,
   "metadata": {
    "ExecuteTime": {
     "end_time": "2023-06-29T07:06:04.038012037Z",
     "start_time": "2023-06-29T07:06:02.715352212Z"
    }
   },
   "outputs": [],
   "source": [
    "import os\n",
    "import json\n",
    "import pandas as pd\n",
    "from gentopia import AgentAssembler\n",
    "from gentbench.grader import GateGrader, BatchGateGrader\n",
    "from gentopia.llm import OpenAIGPTClient\n",
    "from tqdm import tqdm"
   ]
  },
  {
   "cell_type": "code",
   "execution_count": 2,
   "metadata": {
    "ExecuteTime": {
     "end_time": "2023-06-29T07:06:04.040710857Z",
     "start_time": "2023-06-29T07:06:04.039689751Z"
    }
   },
   "outputs": [],
   "source": [
    "# Recursive function to load json files from a path and its subdirectories\n",
    "def load_from_path_recursive(path):\n",
    "    data = []\n",
    "    for root, dirs, files in os.walk(path):\n",
    "        for file in files:\n",
    "            if file.endswith(\".json\"):\n",
    "                with open(os.path.join(root, file), 'r') as f:\n",
    "                    data.append(json.load(f))\n",
    "    return data\n"
   ]
  },
  {
   "cell_type": "code",
   "execution_count": 3,
   "metadata": {
    "ExecuteTime": {
     "end_time": "2023-06-29T07:06:04.196744495Z",
     "start_time": "2023-06-29T07:06:04.041193717Z"
    }
   },
   "outputs": [],
   "source": [
    "# Read MATH dataset\n",
    "data = load_from_path_recursive(\"../benchmark/raw/MATH/\")\n",
    "# Initial filter by level of difficulty \n",
    "hard_data = []\n",
    "for data in data:\n",
    "    if data[\"level\"] in [\"Level 5\"]:\n",
    "        hard_data.append(data)"
   ]
  },
  {
   "cell_type": "code",
   "execution_count": 4,
   "metadata": {
    "collapsed": false,
    "ExecuteTime": {
     "end_time": "2023-06-29T07:06:04.199697353Z",
     "start_time": "2023-06-29T07:06:04.197984405Z"
    }
   },
   "outputs": [
    {
     "data": {
      "text/plain": "3628"
     },
     "execution_count": 4,
     "metadata": {},
     "output_type": "execute_result"
    }
   ],
   "source": [
    "len(hard_data)"
   ]
  },
  {
   "cell_type": "code",
   "execution_count": 5,
   "metadata": {
    "collapsed": false,
    "ExecuteTime": {
     "end_time": "2023-06-29T07:06:04.242159821Z",
     "start_time": "2023-06-29T07:06:04.242007362Z"
    }
   },
   "outputs": [],
   "source": [
    "# Use vanilla gpt-3.5-turbo as threshold\n",
    "dummy_agent = AgentAssembler(file=\"chatgpt.yaml\").get_agent()\n",
    "\n",
    "eval_llm = OpenAIGPTClient(model_name=\"gpt-4\")\n",
    "grader = GateGrader(llm=eval_llm)\n",
    "batch_grader = BatchGateGrader(llm=eval_llm)"
   ]
  },
  {
   "cell_type": "markdown",
   "source": [
    "## Single Eval"
   ],
   "metadata": {
    "collapsed": false
   }
  },
  {
   "cell_type": "code",
   "execution_count": 6,
   "outputs": [
    {
     "data": {
      "text/plain": "{'problem': 'Find the largest negative integer $x$ which satisfies the congruence $34x+6\\\\equiv 2\\\\pmod {20}$.',\n 'level': 'Level 5',\n 'type': 'Number Theory',\n 'solution': 'We can simplify the congruence as follows (all of the following congruences are equivalent):\\n\\\\begin{align*}\\n34x+6&\\\\equiv 2\\\\pmod {20}\\\\\\\\\\n14x+6&\\\\equiv 2\\\\pmod {20}\\\\\\\\\\n14x&\\\\equiv 16\\\\pmod {20}\\\\\\\\\\n7x&\\\\equiv 8\\\\pmod {10}\\\\\\\\\\n21x&\\\\equiv 8\\\\cdot 3\\\\pmod {10}\\\\\\\\\\nx&\\\\equiv 24\\\\pmod{10}\\\\\\\\\\nx&\\\\equiv 4\\\\pmod{10}\\\\\\\\\\nx&\\\\equiv \\\\boxed{-6}\\\\pmod{10}.\\n\\\\end{align*}'}"
     },
     "execution_count": 6,
     "metadata": {},
     "output_type": "execute_result"
    }
   ],
   "source": [
    "hard_data[0]"
   ],
   "metadata": {
    "collapsed": false,
    "ExecuteTime": {
     "end_time": "2023-06-29T07:06:04.350524380Z",
     "start_time": "2023-06-29T07:06:04.303288595Z"
    }
   }
  },
  {
   "cell_type": "code",
   "execution_count": 7,
   "metadata": {
    "collapsed": false,
    "ExecuteTime": {
     "end_time": "2023-06-29T07:06:11.732089292Z",
     "start_time": "2023-06-29T07:06:05.002868714Z"
    }
   },
   "outputs": [
    {
     "data": {
      "text/plain": "'We can simplify the congruence as follows: \\\\begin{align*}\\n34x+6&\\\\equiv 2\\\\pmod{20} \\\\\\\\\\n34x&\\\\equiv -4\\\\pmod{20} \\\\\\\\\\n17x&\\\\equiv -2\\\\pmod{10} \\\\\\\\\\n17x&\\\\equiv 8\\\\pmod{10} \\\\\\\\\\n7x&\\\\equiv 8\\\\pmod{10}.\\n\\\\end{align*}We can then find the inverse of $7$ modulo $10$ by checking each number $0, 1, 2, \\\\ldots, 9$ to see if it satisfies $7x\\\\equiv 1\\\\pmod{10}$. We find that $3$ is the inverse of $7$ modulo $10$, so $x\\\\equiv 3\\\\cdot 8\\\\equiv 24\\\\equiv \\\\boxed{-6}\\\\pmod{10}$.'"
     },
     "execution_count": 7,
     "metadata": {},
     "output_type": "execute_result"
    }
   ],
   "source": [
    "pred = dummy_agent.run(hard_data[0][\"problem\"]).output\n",
    "pred"
   ]
  },
  {
   "cell_type": "code",
   "execution_count": 8,
   "outputs": [
    {
     "data": {
      "text/plain": "AgentOutput(output='passed', cost=0.014399999999999998, token_usage=479)"
     },
     "execution_count": 8,
     "metadata": {},
     "output_type": "execute_result"
    }
   ],
   "source": [
    "grader.run(hard_data[0][\"problem\"], hard_data[0][\"solution\"], pred)"
   ],
   "metadata": {
    "collapsed": false,
    "ExecuteTime": {
     "end_time": "2023-06-29T07:06:27.378658650Z",
     "start_time": "2023-06-29T07:06:26.410502076Z"
    }
   }
  },
  {
   "cell_type": "markdown",
   "source": [
    "## Batch Eval"
   ],
   "metadata": {
    "collapsed": false
   }
  },
  {
   "cell_type": "code",
   "execution_count": 9,
   "metadata": {
    "ExecuteTime": {
     "end_time": "2023-06-29T07:06:54.558468852Z",
     "start_time": "2023-06-29T07:06:54.515324934Z"
    }
   },
   "outputs": [],
   "source": [
    "problems = [\"Answer in short: \" + data[\"problem\"] for data in hard_data]\n",
    "solutions = [data[\"solution\"] for data in hard_data]"
   ]
  },
  {
   "cell_type": "code",
   "execution_count": 10,
   "outputs": [
    {
     "name": "stderr",
     "output_type": "stream",
     "text": [
      " 11%|█         | 11/100 [12:10<3:09:09, 127.52s/it]"
     ]
    },
    {
     "name": "stdout",
     "output_type": "stream",
     "text": [
      "Exception: Bad gateway. {\"error\":{\"code\":502,\"message\":\"Bad gateway.\",\"param\":null,\"type\":\"cf_bad_gateway\"}} 502 {'error': {'code': 502, 'message': 'Bad gateway.', 'param': None, 'type': 'cf_bad_gateway'}} {'Date': 'Thu, 29 Jun 2023 07:19:10 GMT', 'Content-Type': 'application/json', 'Content-Length': '84', 'Connection': 'keep-alive', 'X-Frame-Options': 'SAMEORIGIN', 'Referrer-Policy': 'same-origin', 'Cache-Control': 'private, max-age=0, no-store, no-cache, must-revalidate, post-check=0, pre-check=0', 'Expires': 'Thu, 01 Jan 1970 00:00:01 GMT', 'Server': 'cloudflare', 'CF-RAY': '7dec5e970b518cdd-EWR', 'alt-svc': 'h3=\":443\"; ma=86400'}\n"
     ]
    },
    {
     "name": "stderr",
     "output_type": "stream",
     "text": [
      " 49%|████▉     | 49/100 [39:45<35:49, 42.15s/it]   "
     ]
    },
    {
     "name": "stdout",
     "output_type": "stream",
     "text": [
      "Exception: The server is overloaded or not ready yet.\n"
     ]
    },
    {
     "name": "stderr",
     "output_type": "stream",
     "text": [
      " 55%|█████▌    | 55/100 [48:51<1:38:27, 131.27s/it]"
     ]
    },
    {
     "name": "stdout",
     "output_type": "stream",
     "text": [
      "Exception: Bad gateway. {\"error\":{\"code\":502,\"message\":\"Bad gateway.\",\"param\":null,\"type\":\"cf_bad_gateway\"}} 502 {'error': {'code': 502, 'message': 'Bad gateway.', 'param': None, 'type': 'cf_bad_gateway'}} {'Date': 'Thu, 29 Jun 2023 07:55:50 GMT', 'Content-Type': 'application/json', 'Content-Length': '84', 'Connection': 'keep-alive', 'X-Frame-Options': 'SAMEORIGIN', 'Referrer-Policy': 'same-origin', 'Cache-Control': 'private, max-age=0, no-store, no-cache, must-revalidate, post-check=0, pre-check=0', 'Expires': 'Thu, 01 Jan 1970 00:00:01 GMT', 'Server': 'cloudflare', 'CF-RAY': '7dec94287e6543b2-EWR', 'alt-svc': 'h3=\":443\"; ma=86400'}\n"
     ]
    },
    {
     "name": "stderr",
     "output_type": "stream",
     "text": [
      " 60%|██████    | 60/100 [57:07<1:35:37, 143.43s/it]"
     ]
    },
    {
     "name": "stdout",
     "output_type": "stream",
     "text": [
      "Exception: Bad gateway. {\"error\":{\"code\":502,\"message\":\"Bad gateway.\",\"param\":null,\"type\":\"cf_bad_gateway\"}} 502 {'error': {'code': 502, 'message': 'Bad gateway.', 'param': None, 'type': 'cf_bad_gateway'}} {'Date': 'Thu, 29 Jun 2023 08:04:07 GMT', 'Content-Type': 'application/json', 'Content-Length': '84', 'Connection': 'keep-alive', 'X-Frame-Options': 'SAMEORIGIN', 'Referrer-Policy': 'same-origin', 'Cache-Control': 'private, max-age=0, no-store, no-cache, must-revalidate, post-check=0, pre-check=0', 'Expires': 'Thu, 01 Jan 1970 00:00:01 GMT', 'Server': 'cloudflare', 'CF-RAY': '7deca025fea70ce1-EWR', 'alt-svc': 'h3=\":443\"; ma=86400'}\n"
     ]
    },
    {
     "name": "stderr",
     "output_type": "stream",
     "text": [
      " 89%|████████▉ | 89/100 [1:19:54<08:12, 44.77s/it] "
     ]
    },
    {
     "name": "stdout",
     "output_type": "stream",
     "text": [
      "Exception: The server is overloaded or not ready yet.\n"
     ]
    },
    {
     "name": "stderr",
     "output_type": "stream",
     "text": [
      " 94%|█████████▍| 94/100 [1:27:41<12:17, 122.83s/it]"
     ]
    },
    {
     "name": "stdout",
     "output_type": "stream",
     "text": [
      "Exception: Bad gateway. {\"error\":{\"code\":502,\"message\":\"Bad gateway.\",\"param\":null,\"type\":\"cf_bad_gateway\"}} 502 {'error': {'code': 502, 'message': 'Bad gateway.', 'param': None, 'type': 'cf_bad_gateway'}} {'Date': 'Thu, 29 Jun 2023 08:34:40 GMT', 'Content-Type': 'application/json', 'Content-Length': '84', 'Connection': 'keep-alive', 'X-Frame-Options': 'SAMEORIGIN', 'Referrer-Policy': 'same-origin', 'Cache-Control': 'private, max-age=0, no-store, no-cache, must-revalidate, post-check=0, pre-check=0', 'Expires': 'Thu, 01 Jan 1970 00:00:01 GMT', 'Server': 'cloudflare', 'CF-RAY': '7deccd4769e8c3f5-EWR', 'alt-svc': 'h3=\":443\"; ma=86400'}\n"
     ]
    },
    {
     "name": "stderr",
     "output_type": "stream",
     "text": [
      "100%|██████████| 100/100 [1:32:17<00:00, 55.38s/it]\n"
     ]
    }
   ],
   "source": [
    "BS = 5\n",
    "\n",
    "probs, sols, preds, grades = [], [], [], []\n",
    "cost, tokens = 0, 0\n",
    "for i in tqdm(range(0, 10, BS)):\n",
    "    batch_problems = problems[i:i+BS]\n",
    "    batch_solutions = solutions[i:i+BS]\n",
    "    try:\n",
    "        batch_preds = [dummy_agent.run(prob).output for prob in batch_problems]\n",
    "        res = batch_grader.run(batch_problems, batch_solutions, batch_preds)\n",
    "        probs += batch_problems\n",
    "        sols += batch_solutions\n",
    "        preds += batch_preds\n",
    "        grades += res.output.split(\",\")\n",
    "        cost += res.cost\n",
    "        tokens += res.token_usage\n",
    "    except Exception as e:\n",
    "        print(e)\n",
    "        continue\n"
   ],
   "metadata": {
    "collapsed": false,
    "ExecuteTime": {
     "end_time": "2023-06-29T08:39:17.254768599Z",
     "start_time": "2023-06-29T07:06:59.425198906Z"
    }
   }
  },
  {
   "cell_type": "code",
   "execution_count": 12,
   "outputs": [
    {
     "data": {
      "text/plain": "(282, 282, 282, 282)"
     },
     "execution_count": 12,
     "metadata": {},
     "output_type": "execute_result"
    }
   ],
   "source": [
    "preds"
   ],
   "metadata": {
    "collapsed": false,
    "ExecuteTime": {
     "end_time": "2023-06-29T14:22:38.746281412Z",
     "start_time": "2023-06-29T14:22:38.703370831Z"
    }
   }
  },
  {
   "cell_type": "code",
   "execution_count": 16,
   "outputs": [
    {
     "data": {
      "text/plain": "['failed',\n 'failed',\n 'failed',\n 'failed',\n 'failed',\n 'failed',\n 'failed',\n 'failed',\n 'passed',\n 'failed']"
     },
     "execution_count": 16,
     "metadata": {},
     "output_type": "execute_result"
    }
   ],
   "source": [
    "problems[0]"
   ],
   "metadata": {
    "collapsed": false,
    "ExecuteTime": {
     "end_time": "2023-06-29T07:04:18.760281835Z",
     "start_time": "2023-06-29T07:04:18.757735671Z"
    }
   }
  },
  {
   "cell_type": "code",
   "execution_count": 15,
   "outputs": [
    {
     "name": "stdout",
     "output_type": "stream",
     "text": [
      "new tasks to be saved into benchmark: 253\n"
     ]
    }
   ],
   "source": [
    "solutions[0]"
   ],
   "metadata": {
    "collapsed": false,
    "ExecuteTime": {
     "end_time": "2023-06-29T14:26:09.428015529Z",
     "start_time": "2023-06-29T14:26:09.424585816Z"
    }
   }
  },
  {
   "cell_type": "code",
   "execution_count": 18,
   "outputs": [],
   "source": [
    "preds[0]"
   ],
   "metadata": {
    "collapsed": false,
    "ExecuteTime": {
     "end_time": "2023-06-29T14:34:34.538117725Z",
     "start_time": "2023-06-29T14:34:34.496850151Z"
    }
   }
  },
  {
   "cell_type": "code",
   "execution_count": 19,
   "outputs": [
    {
     "name": "stdout",
     "output_type": "stream",
     "text": [
      "Eval spent you $6.4428600000000005 and 213446 tokens.\n"
     ]
    }
   ],
   "source": [
    "grades"
   ],
   "metadata": {
    "collapsed": false,
    "ExecuteTime": {
     "end_time": "2023-06-29T14:36:15.698045803Z",
     "start_time": "2023-06-29T14:36:15.652492997Z"
    }
   }
  },
  {
   "cell_type": "code",
   "execution_count": 20,
   "outputs": [
    {
     "data": {
      "text/plain": "{'problem': 'Think step by step and answer in short: For $1 \\\\le n \\\\le 100$, how many integers are there such that $\\\\frac{n}{n+1}$ is a repeating decimal?',\n 'solution': 'Note that $n+1$ and $n$ will never share any common factors except for $1$, because they are consecutive integers. Therefore, $n/(n+1)$ is already simplified, for all positive integers $n$.\\n\\nSince $1 \\\\le n \\\\le 100$, it follows that $2 \\\\le n+1 \\\\le 101$. Recall that a simplified fraction has a repeating decimal representation if and only if its denominator is divisible by a prime other than 2 and 5. The numbers between 2 and 101 which are divisible only by 2 and 5 comprise the set $\\\\{2, 4, 5, 8, \\\\allowbreak 10, 16, 20, 25, \\\\allowbreak 32, 40, 50, 64, \\\\allowbreak 80, 100\\\\}$. Therefore, there are $14$ terminating decimals and $100 - 14 = \\\\boxed{86}$ repeating decimals.',\n 'pred': 'To determine how many integers satisfy the given condition, we need to find the number of integers $n$ such that $\\\\frac{n}{n+1}$ is a repeating decimal.\\n\\nStep 1: Consider the fraction $\\\\frac{n}{n+1}$. We want to express it as a repeating decimal.\\n\\nStep 2: To do this, we divide $n$ by $n+1$ using long division. The quotient will be the whole number part of the decimal representation, and the remainder will be the repeating part.\\n\\nStep 3: Since $1 \\\\le n \\\\le 100$, the possible values of $n$ are $1, 2, 3, \\\\ldots, 100$. We can go through each value of $n$ and perform the long division to determine if $\\\\frac{n}{n+1}$ is a repeating decimal.\\n\\nStep 4: If the remainder is zero, then $\\\\frac{n}{n+1}$ is not a repeating decimal. If the remainder is nonzero, then $\\\\frac{n}{n+1}$ is a repeating decimal.\\n\\nStep 5: Count the number of values of $n$ for which the remainder is nonzero. This will give us the number of integers that satisfy the given condition.\\n\\nNote: We can also observe that $\\\\frac{n}{n+1}$ is a repeating decimal if and only if $n+1$ is not a power of $2$ or $5$. This is because the decimal representation of $\\\\frac{n}{n+1}$ repeats if and only if the denominator $n+1$ has a prime factor other than $2$ or $5$.'}"
     },
     "execution_count": 20,
     "metadata": {},
     "output_type": "execute_result"
    }
   ],
   "source": [
    "df = pd.DataFrame({\"problem\": problems, \"solution\": solutions})"
   ],
   "metadata": {
    "collapsed": false,
    "ExecuteTime": {
     "end_time": "2023-06-29T14:36:46.581246197Z",
     "start_time": "2023-06-29T14:36:46.577302768Z"
    }
   }
  },
  {
   "cell_type": "code",
   "execution_count": 24,
   "outputs": [],
   "source": [
    "df = df[:3]"
   ],
   "metadata": {
    "collapsed": false,
    "ExecuteTime": {
     "end_time": "2023-06-29T03:29:11.084456689Z",
     "start_time": "2023-06-29T03:29:11.083311671Z"
    }
   }
  },
  {
   "cell_type": "code",
   "execution_count": 25,
   "outputs": [
    {
     "data": {
      "text/plain": "                                             problem  \\\n0  Find the largest negative integer $x$ which sa...   \n1  For $1 \\le n \\le 100$, how many integers are t...   \n2  Let $m$ and $n$ be positive integers satisfyin...   \n\n                                            solution  \n0  We can simplify the congruence as follows (all...  \n1  Note that $n+1$ and $n$ will never share any c...  \n2  Taking inspiration from $4^4 \\mid 10^{10}$ we ...  ",
      "text/html": "<div>\n<style scoped>\n    .dataframe tbody tr th:only-of-type {\n        vertical-align: middle;\n    }\n\n    .dataframe tbody tr th {\n        vertical-align: top;\n    }\n\n    .dataframe thead th {\n        text-align: right;\n    }\n</style>\n<table border=\"1\" class=\"dataframe\">\n  <thead>\n    <tr style=\"text-align: right;\">\n      <th></th>\n      <th>problem</th>\n      <th>solution</th>\n    </tr>\n  </thead>\n  <tbody>\n    <tr>\n      <th>0</th>\n      <td>Find the largest negative integer $x$ which sa...</td>\n      <td>We can simplify the congruence as follows (all...</td>\n    </tr>\n    <tr>\n      <th>1</th>\n      <td>For $1 \\le n \\le 100$, how many integers are t...</td>\n      <td>Note that $n+1$ and $n$ will never share any c...</td>\n    </tr>\n    <tr>\n      <th>2</th>\n      <td>Let $m$ and $n$ be positive integers satisfyin...</td>\n      <td>Taking inspiration from $4^4 \\mid 10^{10}$ we ...</td>\n    </tr>\n  </tbody>\n</table>\n</div>"
     },
     "execution_count": 25,
     "metadata": {},
     "output_type": "execute_result"
    }
   ],
   "source": [
    "df"
   ],
   "metadata": {
    "collapsed": false,
    "ExecuteTime": {
     "end_time": "2023-06-29T03:29:12.567353082Z",
     "start_time": "2023-06-29T03:29:12.562893186Z"
    }
   }
  },
  {
   "cell_type": "code",
   "execution_count": 38,
   "outputs": [],
   "source": [
    "new_rows = pd.DataFrame({\"problem\": [\"What is 1+1?\", \"xxx\"], \"solution\": [\"2\", \"3\"]})\n",
    "# concat df with new_rows\n",
    "df = pd.concat([df, new_rows])"
   ],
   "metadata": {
    "collapsed": false,
    "ExecuteTime": {
     "end_time": "2023-06-29T03:32:41.253636552Z",
     "start_time": "2023-06-29T03:32:41.250212822Z"
    }
   }
  },
  {
   "cell_type": "code",
   "execution_count": 39,
   "outputs": [
    {
     "data": {
      "text/plain": "                                             problem  \\\n0  Find the largest negative integer $x$ which sa...   \n1  For $1 \\le n \\le 100$, how many integers are t...   \n2  Let $m$ and $n$ be positive integers satisfyin...   \n3                                       What is 1+1?   \n4                                       What is 1+1?   \n5                                [What is 1+1?, xxx]   \n6                                [What is 1+1?, xxx]   \n0                                       What is 1+1?   \n1                                                xxx   \n\n                                            solution  \n0  We can simplify the congruence as follows (all...  \n1  Note that $n+1$ and $n$ will never share any c...  \n2  Taking inspiration from $4^4 \\mid 10^{10}$ we ...  \n3                                                  2  \n4                                                  2  \n5                                             [2, 3]  \n6                                             [2, 3]  \n0                                                  2  \n1                                                  3  ",
      "text/html": "<div>\n<style scoped>\n    .dataframe tbody tr th:only-of-type {\n        vertical-align: middle;\n    }\n\n    .dataframe tbody tr th {\n        vertical-align: top;\n    }\n\n    .dataframe thead th {\n        text-align: right;\n    }\n</style>\n<table border=\"1\" class=\"dataframe\">\n  <thead>\n    <tr style=\"text-align: right;\">\n      <th></th>\n      <th>problem</th>\n      <th>solution</th>\n    </tr>\n  </thead>\n  <tbody>\n    <tr>\n      <th>0</th>\n      <td>Find the largest negative integer $x$ which sa...</td>\n      <td>We can simplify the congruence as follows (all...</td>\n    </tr>\n    <tr>\n      <th>1</th>\n      <td>For $1 \\le n \\le 100$, how many integers are t...</td>\n      <td>Note that $n+1$ and $n$ will never share any c...</td>\n    </tr>\n    <tr>\n      <th>2</th>\n      <td>Let $m$ and $n$ be positive integers satisfyin...</td>\n      <td>Taking inspiration from $4^4 \\mid 10^{10}$ we ...</td>\n    </tr>\n    <tr>\n      <th>3</th>\n      <td>What is 1+1?</td>\n      <td>2</td>\n    </tr>\n    <tr>\n      <th>4</th>\n      <td>What is 1+1?</td>\n      <td>2</td>\n    </tr>\n    <tr>\n      <th>5</th>\n      <td>[What is 1+1?, xxx]</td>\n      <td>[2, 3]</td>\n    </tr>\n    <tr>\n      <th>6</th>\n      <td>[What is 1+1?, xxx]</td>\n      <td>[2, 3]</td>\n    </tr>\n    <tr>\n      <th>0</th>\n      <td>What is 1+1?</td>\n      <td>2</td>\n    </tr>\n    <tr>\n      <th>1</th>\n      <td>xxx</td>\n      <td>3</td>\n    </tr>\n  </tbody>\n</table>\n</div>"
     },
     "execution_count": 39,
     "metadata": {},
     "output_type": "execute_result"
    }
   ],
   "source": [
    "df"
   ],
   "metadata": {
    "collapsed": false,
    "ExecuteTime": {
     "end_time": "2023-06-29T03:32:41.749154021Z",
     "start_time": "2023-06-29T03:32:41.746340843Z"
    }
   }
  },
  {
   "cell_type": "code",
   "execution_count": 14,
   "outputs": [
    {
     "data": {
      "text/plain": "'The director of a marching band wishes to place the members into a formation that includes all of them and has no unfilled positions. If they are arranged in a square formation, there are 5 members left over. The director realizes that if he arranges the group in a formation with 7 more rows than columns, there are no members left over. Find the maximum number of members this band can have.\\n'"
     },
     "execution_count": 14,
     "metadata": {},
     "output_type": "execute_result"
    }
   ],
   "source": [
    "batch_problems[0]"
   ],
   "metadata": {
    "collapsed": false,
    "ExecuteTime": {
     "end_time": "2023-06-29T04:19:02.442238978Z",
     "start_time": "2023-06-29T04:19:02.400473687Z"
    }
   }
  },
  {
   "cell_type": "code",
   "execution_count": 16,
   "outputs": [
    {
     "data": {
      "text/plain": "'If $n > 14$ then $n^2 + 6n + 14 < n^2 + 7n < n^2 + 8n + 21$ and so $(n + 3)^2 + 5 < n(n + 7) < (n + 4)^2 + 5$. If $n$ is an integer there are no numbers which are 5 more than a perfect square strictly between $(n + 3)^2 + 5$ and $(n + 4)^2 + 5$. Thus, if the number of columns is $n$, the number of students is $n(n + 7)$ which must be 5 more than a perfect square, so $n \\\\leq 14$. In fact, when $n = 14$ we have $n(n + 7) = 14\\\\cdot 21 = 294 = 17^2 + 5$, so this number works and no larger number can. Thus, the answer is $\\\\boxed{294}$.'"
     },
     "execution_count": 16,
     "metadata": {},
     "output_type": "execute_result"
    }
   ],
   "source": [
    "batch_solutions[1]"
   ],
   "metadata": {
    "collapsed": false,
    "ExecuteTime": {
     "end_time": "2023-06-29T04:19:13.305565609Z",
     "start_time": "2023-06-29T04:19:13.299108852Z"
    }
   }
  },
  {
   "cell_type": "code",
   "execution_count": 15,
   "outputs": [
    {
     "data": {
      "text/plain": "'Let the number of members in the marching band be $m$. If they are arranged in a square formation, then the number of rows and columns must be equal. Let this common value be $n$. We are given that $m \\\\equiv 5 \\\\pmod{n}$.\\n\\nIf they are arranged in a formation with 7 more rows than columns, then the number of rows must be $n+7$ and the number of columns must be $n$. We are given that $m \\\\equiv 0 \\\\pmod{n+7}$.\\n\\nSince $m$ is the same in both cases, we have $m \\\\equiv 5 \\\\equiv 0 \\\\pmod{n}$ and $m \\\\equiv 0 \\\\pmod{n+7}$. This means that $n$ divides both 5 and 0, so $n$ must be a divisor of 5. The only divisors of 5 are 1 and 5, so $n$ must be either 1 or 5.\\n\\nIf $n=1$, then $m \\\\equiv 5 \\\\pmod{1}$, which means $m \\\\equiv 0 \\\\pmod{1}$. This is true for all positive integers $m$, so $n=1$ is a valid possibility.\\n\\nIf $n=5$, then $m \\\\equiv 5 \\\\pmod{5}$, which means $m \\\\equiv 0 \\\\pmod{5}$. This is also true for all positive integers $m$, so $n=5$ is a valid possibility.\\n\\nTherefore, the maximum number of members the band can have is $\\\\boxed{1}$, which occurs when they are arranged in a square formation.'"
     },
     "execution_count": 15,
     "metadata": {},
     "output_type": "execute_result"
    }
   ],
   "source": [
    "batch_preds[1]"
   ],
   "metadata": {
    "collapsed": false,
    "ExecuteTime": {
     "end_time": "2023-06-29T04:19:10.306559218Z",
     "start_time": "2023-06-29T04:19:10.303278670Z"
    }
   }
  },
  {
   "cell_type": "code",
   "execution_count": null,
   "outputs": [],
   "source": [],
   "metadata": {
    "collapsed": false
   }
  }
 ],
 "metadata": {
  "kernelspec": {
   "display_name": "Python 3",
   "language": "python",
   "name": "python3"
  },
  "language_info": {
   "codemirror_mode": {
    "name": "ipython",
    "version": 3
   },
   "file_extension": ".py",
   "mimetype": "text/x-python",
   "name": "python",
   "nbconvert_exporter": "python",
   "pygments_lexer": "ipython3",
   "version": "3.10.11"
  }
 },
 "nbformat": 4,
 "nbformat_minor": 0
}
